{
 "cells": [
  {
   "cell_type": "code",
   "execution_count": 145,
   "id": "0b1f6e88",
   "metadata": {},
   "outputs": [],
   "source": [
    "import torch\n",
    "import torch.nn as nn\n",
    "import pandas as pd\n",
    "import numpy as np\n",
    "import imblearn\n",
    "from imblearn.over_sampling import RandomOverSampler\n",
    "from sklearn import preprocessing\n",
    "from sklearn.model_selection import KFold"
   ]
  },
  {
   "cell_type": "code",
   "execution_count": 3,
   "id": "e2b12cc5",
   "metadata": {},
   "outputs": [
    {
     "data": {
      "text/plain": [
       "device(type='cpu')"
      ]
     },
     "execution_count": 3,
     "metadata": {},
     "output_type": "execute_result"
    }
   ],
   "source": [
    "device = torch.device('cuda' if torch.cuda.is_available() else 'cpu')\n",
    "device"
   ]
  },
  {
   "cell_type": "code",
   "execution_count": 215,
   "id": "d0d72869",
   "metadata": {},
   "outputs": [],
   "source": [
    "class NN(nn.Module):\n",
    "    def __init__(self, input_size, hidden_size, out_size):\n",
    "        super(NN, self).__init__()\n",
    "        self.l1 = nn.Linear(input_size, hidden_size)\n",
    "        self.relu = nn.ReLU()\n",
    "        self.l2 = nn.Linear(hidden_size, hidden_size)\n",
    "        self.l3 = nn.Linear(hidden_size, out_size)\n",
    "    def forward(self, x):\n",
    "        out = self.l1(x)\n",
    "        out = self.relu(out)\n",
    "        out = self.l2(out)\n",
    "        out = self.relu(out)\n",
    "        out = self.l3(out)\n",
    "        return out"
   ]
  },
  {
   "cell_type": "markdown",
   "id": "6bcd3560",
   "metadata": {},
   "source": [
    "# Predict for the 1,2,3,4,5 classes for yData"
   ]
  },
  {
   "cell_type": "code",
   "execution_count": 469,
   "id": "eac089ff",
   "metadata": {},
   "outputs": [],
   "source": [
    "xTrain = pd.read_csv(\"xTrain.csv\",index_col = 0).to_numpy()\n",
    "xTest  = pd.read_csv(\"xTest.csv\",index_col = 0).to_numpy()\n",
    "yTrain1 = pd.read_csv(\"CateyTrain.csv\")['1'].to_numpy()\n",
    "yTest1 = pd.read_csv(\"CateyTest.csv\")['1'].to_numpy()\n",
    "#encode y_label\n",
    "le = preprocessing.LabelEncoder()\n",
    "le.fit(np.append(yTrain1, yTest1))\n",
    "yTest1 = le.transform(yTest1)\n",
    "yTrain1 = le.transform(yTrain1)\n",
    "ros = RandomOverSampler(random_state = 0)\n",
    "xTrain, yTrain1 = ros.fit_resample(xTrain,yTrain1)"
   ]
  },
  {
   "cell_type": "code",
   "execution_count": 470,
   "id": "a5e22535",
   "metadata": {},
   "outputs": [
    {
     "data": {
      "text/plain": [
       "18288"
      ]
     },
     "execution_count": 470,
     "metadata": {},
     "output_type": "execute_result"
    }
   ],
   "source": [
    "len(yTrain1)"
   ]
  },
  {
   "cell_type": "code",
   "execution_count": 471,
   "id": "db2e9988",
   "metadata": {},
   "outputs": [
    {
     "name": "stdout",
     "output_type": "stream",
     "text": [
      " 1 / 10 epochs, loss = 0.3687\n",
      " 2 / 10 epochs, loss = 0.3066\n",
      " 3 / 10 epochs, loss = 0.2784\n",
      " 4 / 10 epochs, loss = 0.2620\n",
      " 5 / 10 epochs, loss = 0.2491\n",
      " 6 / 10 epochs, loss = 0.2384\n",
      " 7 / 10 epochs, loss = 0.2300\n",
      " 8 / 10 epochs, loss = 0.2224\n",
      " 9 / 10 epochs, loss = 0.2171\n",
      " 10 / 10 epochs, loss = 0.2241\n"
     ]
    }
   ],
   "source": [
    "#hyper parameters\n",
    "input_size = len(xTrain[0])\n",
    "out_size = len(np.unique(np.append(yTrain1, yTest1)))\n",
    "hidden_size =200\n",
    "num_epoch = 10\n",
    "learning_rate = 0.0005\n",
    "\n",
    "model = NN(input_size, hidden_size, out_size)\n",
    "criterion = nn.CrossEntropyLoss()\n",
    "optimizer = torch.optim.Adam(model.parameters(), lr = learning_rate)\n",
    "fcount += 1\n",
    "xtr, xte = torch.Tensor(xTrain), torch.Tensor(xTest)\n",
    "ytr, yte = torch.Tensor(yTrain1).long(), torch.Tensor(yTest1).long()\n",
    "#begin training for this batch\n",
    "for ep in range(num_epoch):\n",
    "    batch_size = 10\n",
    "    index = 0\n",
    "    total_length = len(xtr)\n",
    "    while(index < total_length):\n",
    "        start = index\n",
    "        if index + batch_size > total_length:\n",
    "            end = total_length\n",
    "        else:\n",
    "            end = index + batch_size\n",
    "        xxtr = xtr[start:end]\n",
    "        yytr = ytr[start:end]\n",
    "        output = model(xtr)\n",
    "        loss = criterion(output, ytr)\n",
    "        #backward\n",
    "        optimizer.zero_grad()\n",
    "        loss.backward()\n",
    "        optimizer.step()    \n",
    "        index = index + batch_size\n",
    "    print(f\" {ep + 1} / {num_epoch} epochs, loss = {loss.item():.4f}\")\n",
    "# test this fold\n",
    "with torch.no_grad():\n",
    "    n_correct = 0\n",
    "    n_sample = 0\n",
    "    output = model(xte)\n",
    "    _, predictions = torch.max(output, 1)\n",
    "    n_sample += len(yte)\n",
    "    n_correct += (predictions == yte).sum().item()\n",
    "acc = n_correct / n_sample\n"
   ]
  },
  {
   "cell_type": "code",
   "execution_count": 472,
   "id": "18044fe8",
   "metadata": {},
   "outputs": [
    {
     "name": "stdout",
     "output_type": "stream",
     "text": [
      "0.6435523114355232\n"
     ]
    }
   ],
   "source": [
    "print(acc)"
   ]
  },
  {
   "cell_type": "code",
   "execution_count": 473,
   "id": "1d331740",
   "metadata": {},
   "outputs": [],
   "source": [
    "truth   = np.zeros(4)\n",
    "predict = np.zeros(4)\n",
    "correct = np.zeros(4)\n",
    "with torch.no_grad():\n",
    "    for index in range(len(xte)):\n",
    "        x = torch.empty(1,len(xte[index]))\n",
    "        x[0] = xte[index]\n",
    "        y = yte[index]\n",
    "        output = model(x)\n",
    "        _, p = torch.max(output,1)\n",
    "        predict[p] += 1\n",
    "        truth[y] += 1\n",
    "        correct[p] += int(p == y)\n"
   ]
  },
  {
   "cell_type": "code",
   "execution_count": 474,
   "id": "b15ded95",
   "metadata": {},
   "outputs": [
    {
     "name": "stdout",
     "output_type": "stream",
     "text": [
      "[0.02439024 0.07185629 0.26395939 0.85062987]\n",
      "[0.11111111 0.18461538 0.36027714 0.72383869]\n",
      "[0.04       0.10344828 0.3046875  0.78212907]\n"
     ]
    }
   ],
   "source": [
    "precision = correct / predict\n",
    "recall    = correct / truth\n",
    "f1 = 2 * (precision * recall)/ (precision + recall)\n",
    "print(precision)\n",
    "print(recall)\n",
    "print(f1)"
   ]
  },
  {
   "cell_type": "markdown",
   "id": "688a220b",
   "metadata": {},
   "source": [
    "# Some data visualization"
   ]
  },
  {
   "cell_type": "code",
   "execution_count": 396,
   "id": "785665d0",
   "metadata": {},
   "outputs": [],
   "source": [
    "xTrain = pd.read_csv(\"xTrain.csv\",index_col = 0)\n",
    "xTest  = pd.read_csv(\"xTest.csv\",index_col = 0)\n",
    "xData  = pd.concat([xTrain, xTest])\n",
    "yTrain = pd.read_csv(\"yTrain.csv\")['numerical']\n",
    "yTest  = pd.read_csv(\"yTest.csv\")['numerical']\n",
    "yData  = pd.concat([yTrain, yTest])\n",
    "ogData = pd.read_csv(\"googleplaystore.csv\")"
   ]
  },
  {
   "cell_type": "code",
   "execution_count": 434,
   "id": "4488fa88",
   "metadata": {},
   "outputs": [
    {
     "data": {
      "image/png": "[encoded data removed]",
      "text/plain": [
       "<Figure size 432x288 with 1 Axes>"
      ]
     },
     "metadata": {
      "needs_background": "light"
     },
     "output_type": "display_data"
    }
   ],
   "source": [
    "fig1 = yData.hist(grid = False, bins = len(np.unique(yData)))\n",
    "fig1.set_title(\"Rating Distribution\")\n",
    "fig1.set_xlabel(\"Rating\")\n",
    "fig1.set_ylabel(\"Frequency\")\n",
    "fig1.figure.savefig('Rating_distribution', bbox_inches=\"tight\")"
   ]
  },
  {
   "cell_type": "code",
   "execution_count": 433,
   "id": "7cf7cacc",
   "metadata": {},
   "outputs": [
    {
     "data": {
      "image/png": "[encoded data removed]",
      "text/plain": [
       "<Figure size 432x288 with 1 Axes>"
      ]
     },
     "metadata": {
      "needs_background": "light"
     },
     "output_type": "display_data"
    }
   ],
   "source": [
    "fig2 = ogData[\"Category\"].hist(grid = False, xrot = 90, bins = len(np.unique(ogData[\"Category\"])))\n",
    "fig2.set_title(\"Categories\")\n",
    "fig2.figure.savefig('Category_distribution', bbox_inches=\"tight\")"
   ]
  },
  {
   "cell_type": "code",
   "execution_count": 435,
   "id": "731cbf06",
   "metadata": {},
   "outputs": [
    {
     "data": {
      "image/png": "[encoded data removed]",
      "text/plain": [
       "<Figure size 432x288 with 1 Axes>"
      ]
     },
     "metadata": {
      "needs_background": "light"
     },
     "output_type": "display_data"
    }
   ],
   "source": [
    "fig2 = ogData[\"Installs\"].hist(grid = False, xrot = 90, bins = len(np.unique(ogData[\"Installs\"])))\n",
    "fig2.set_title(\"Installs\")\n",
    "fig2.figure.savefig('Install_distribution', bbox_inches=\"tight\")"
   ]
  },
  {
   "cell_type": "code",
   "execution_count": 436,
   "id": "bf1c3200",
   "metadata": {},
   "outputs": [
    {
     "data": {
      "image/png": "[encoded data removed]",
      "text/plain": [
       "<Figure size 432x288 with 1 Axes>"
      ]
     },
     "metadata": {
      "needs_background": "light"
     },
     "output_type": "display_data"
    }
   ],
   "source": [
    "fig2 = ogData[\"Type\"][ogData[\"Type\"] != \"0\"].hist(grid = False, xrot = 0)\n",
    "fig2.set_title(\"Types\")\n",
    "fig2.figure.savefig('Type_distribution', bbox_inches=\"tight\")"
   ]
  },
  {
   "cell_type": "code",
   "execution_count": 438,
   "id": "2a1e467b",
   "metadata": {},
   "outputs": [
    {
     "data": {
      "image/png": "[encoded data removed]",
      "text/plain": [
       "<Figure size 432x288 with 1 Axes>"
      ]
     },
     "metadata": {
      "needs_background": "light"
     },
     "output_type": "display_data"
    }
   ],
   "source": [
    "import re\n",
    "def convert_to_float(x):\n",
    "    num_list = re.split(\",\", x)\n",
    "    temp = \"\"\n",
    "    for i in num_list:\n",
    "        temp += i\n",
    "    return float(temp)\n",
    "size_dict = {\"M\": 1000000, \"k\":1000, \"+\":1}\n",
    "new_size = []\n",
    "for i in ogData[\"Size\"]:\n",
    "    if i == \"Varies with device\":\n",
    "        new_size.append(0)\n",
    "    else:\n",
    "        num = convert_to_float(i[0:len(i)-1])\n",
    "        new_size.append(num * size_dict[i[len(i)-1]])\n",
    "fig2 = pd.DataFrame({\"Size\":new_size}).hist(grid = False, xrot = 90)\n"
   ]
  },
  {
   "cell_type": "code",
   "execution_count": 437,
   "id": "d42968c3",
   "metadata": {},
   "outputs": [
    {
     "data": {
      "image/png": "[encoded data removed]",
      "text/plain": [
       "<Figure size 432x288 with 1 Axes>"
      ]
     },
     "metadata": {
      "needs_background": "light"
     },
     "output_type": "display_data"
    }
   ],
   "source": [
    "fig2 = ogData[\"Content Rating\"].hist(grid = False, xrot = 90)\n",
    "fig2.set_title(\"Content Rating\")\n",
    "fig2.figure.savefig('Content_distribution', bbox_inches=\"tight\")"
   ]
  },
  {
   "cell_type": "code",
   "execution_count": 440,
   "id": "31a65ee7",
   "metadata": {},
   "outputs": [
    {
     "data": {
      "text/plain": [
       "array(['Action', 'Action;Action & Adventure', 'Adventure',\n",
       "       'Adventure;Action & Adventure', 'Adventure;Brain Games',\n",
       "       'Adventure;Education', 'Arcade', 'Arcade;Action & Adventure',\n",
       "       'Arcade;Pretend Play', 'Art & Design',\n",
       "       'Art & Design;Action & Adventure', 'Art & Design;Creativity',\n",
       "       'Art & Design;Pretend Play', 'Auto & Vehicles', 'Beauty', 'Board',\n",
       "       'Board;Action & Adventure', 'Board;Brain Games',\n",
       "       'Board;Pretend Play', 'Books & Reference',\n",
       "       'Books & Reference;Creativity', 'Books & Reference;Education',\n",
       "       'Business', 'Card', 'Card;Action & Adventure', 'Card;Brain Games',\n",
       "       'Casino', 'Casual', 'Casual;Action & Adventure',\n",
       "       'Casual;Brain Games', 'Casual;Creativity', 'Casual;Education',\n",
       "       'Casual;Music & Video', 'Casual;Pretend Play', 'Comics',\n",
       "       'Comics;Creativity', 'Communication', 'Communication;Creativity',\n",
       "       'Dating', 'Education', 'Education;Action & Adventure',\n",
       "       'Education;Brain Games', 'Education;Creativity',\n",
       "       'Education;Education', 'Education;Music & Video',\n",
       "       'Education;Pretend Play', 'Educational',\n",
       "       'Educational;Action & Adventure', 'Educational;Brain Games',\n",
       "       'Educational;Creativity', 'Educational;Education',\n",
       "       'Educational;Pretend Play', 'Entertainment',\n",
       "       'Entertainment;Action & Adventure', 'Entertainment;Brain Games',\n",
       "       'Entertainment;Creativity', 'Entertainment;Education',\n",
       "       'Entertainment;Music & Video', 'Entertainment;Pretend Play',\n",
       "       'Events', 'February 11, 2018', 'Finance', 'Food & Drink',\n",
       "       'Health & Fitness', 'Health & Fitness;Action & Adventure',\n",
       "       'Health & Fitness;Education', 'House & Home', 'Libraries & Demo',\n",
       "       'Lifestyle', 'Lifestyle;Education', 'Lifestyle;Pretend Play',\n",
       "       'Maps & Navigation', 'Medical', 'Music',\n",
       "       'Music & Audio;Music & Video', 'Music;Music & Video',\n",
       "       'News & Magazines', 'Parenting', 'Parenting;Brain Games',\n",
       "       'Parenting;Education', 'Parenting;Music & Video',\n",
       "       'Personalization', 'Photography', 'Productivity', 'Puzzle',\n",
       "       'Puzzle;Action & Adventure', 'Puzzle;Brain Games',\n",
       "       'Puzzle;Creativity', 'Puzzle;Education', 'Racing',\n",
       "       'Racing;Action & Adventure', 'Racing;Pretend Play', 'Role Playing',\n",
       "       'Role Playing;Action & Adventure', 'Role Playing;Brain Games',\n",
       "       'Role Playing;Education', 'Role Playing;Pretend Play', 'Shopping',\n",
       "       'Simulation', 'Simulation;Action & Adventure',\n",
       "       'Simulation;Education', 'Simulation;Pretend Play', 'Social',\n",
       "       'Sports', 'Sports;Action & Adventure', 'Strategy',\n",
       "       'Strategy;Action & Adventure', 'Strategy;Creativity',\n",
       "       'Strategy;Education', 'Tools', 'Tools;Education', 'Travel & Local',\n",
       "       'Travel & Local;Action & Adventure', 'Trivia', 'Trivia;Education',\n",
       "       'Video Players & Editors', 'Video Players & Editors;Creativity',\n",
       "       'Video Players & Editors;Music & Video', 'Weather', 'Word'],\n",
       "      dtype=object)"
      ]
     },
     "execution_count": 440,
     "metadata": {},
     "output_type": "execute_result"
    }
   ],
   "source": [
    "np.unique(ogData[\"Genres\"])"
   ]
  },
  {
   "cell_type": "code",
   "execution_count": 451,
   "id": "99f04809",
   "metadata": {},
   "outputs": [
    {
     "data": {
      "text/plain": [
       "<AxesSubplot:>"
      ]
     },
     "execution_count": 451,
     "metadata": {},
     "output_type": "execute_result"
    },
    {
     "data": {
      "image/png": "[encoded data removed]",
      "text/plain": [
       "<Figure size 432x288 with 1 Axes>"
      ]
     },
     "metadata": {
      "needs_background": "light"
     },
     "output_type": "display_data"
    }
   ],
   "source": [
    "xData[\"Price\"].hist(bins = len(np.unique(xData['Price'])))"
   ]
  },
  {
   "cell_type": "code",
   "execution_count": 452,
   "id": "29e14c89",
   "metadata": {},
   "outputs": [
    {
     "data": {
      "text/plain": [
       "14"
      ]
     },
     "execution_count": 452,
     "metadata": {},
     "output_type": "execute_result"
    }
   ],
   "source": [
    "sum(xData['Price']>200)"
   ]
  },
  {
   "cell_type": "code",
   "execution_count": null,
   "id": "32a8cd06",
   "metadata": {},
   "outputs": [],
   "source": []
  }
 ],
 "metadata": {
  "kernelspec": {
   "display_name": "Environment (conda_pytorch_p36)",
   "language": "python",
   "name": "conda_pytorch_p36"
  },
  "language_info": {
   "codemirror_mode": {
    "name": "ipython",
    "version": 3
   },
   "file_extension": ".py",
   "mimetype": "text/x-python",
   "name": "python",
   "nbconvert_exporter": "python",
   "pygments_lexer": "ipython3",
   "version": "3.6.13"
  }
 },
 "nbformat": 4,
 "nbformat_minor": 5
}

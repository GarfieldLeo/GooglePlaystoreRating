{
 "cells": [
  {
   "cell_type": "code",
   "execution_count": 11,
   "id": "4bc79c25",
   "metadata": {},
   "outputs": [],
   "source": [
    "import pandas as pd\n",
    "import numpy as np\n",
    "import matplotlib.pyplot as plt\n",
    "import seaborn as sns\n",
    "from sklearn.ensemble import RandomForestRegressor\n",
    "from sklearn.linear_model import LassoCV\n",
    "from sklearn.model_selection import RepeatedKFold\n",
    "from numpy import arange\n",
    "from sklearn.linear_model import LinearRegression\n",
    "from sklearn.metrics import mean_squared_error\n",
    "from sklearn.model_selection import GridSearchCV\n",
    "from sklearn.neighbors import KNeighborsClassifier\n",
    "from sklearn.metrics import accuracy_score\n",
    "from sklearn.model_selection import RandomizedSearchCV\n",
    "import warnings\n",
    "warnings.filterwarnings('ignore')"
   ]
  },
  {
   "cell_type": "code",
   "execution_count": 27,
   "id": "02da03e8",
   "metadata": {},
   "outputs": [],
   "source": [
    "xTrain=pd.read_csv('xTrain.csv', index_col=0)\n",
    "yTrain=pd.read_csv('yTrain.csv', index_col=0)\n",
    "xTest=pd.read_csv('xTest.csv', index_col=0)\n",
    "yTest=pd.read_csv('yTest.csv', index_col=0)"
   ]
  },
  {
   "cell_type": "code",
   "execution_count": 28,
   "id": "685e873e",
   "metadata": {
    "scrolled": true
   },
   "outputs": [
    {
     "data": {
      "text/html": [
       "<div>\n",
       "<style scoped>\n",
       "    .dataframe tbody tr th:only-of-type {\n",
       "        vertical-align: middle;\n",
       "    }\n",
       "\n",
       "    .dataframe tbody tr th {\n",
       "        vertical-align: top;\n",
       "    }\n",
       "\n",
       "    .dataframe thead th {\n",
       "        text-align: right;\n",
       "    }\n",
       "</style>\n",
       "<table border=\"1\" class=\"dataframe\">\n",
       "  <thead>\n",
       "    <tr style=\"text-align: right;\">\n",
       "      <th></th>\n",
       "      <th>Reviews</th>\n",
       "      <th>Size</th>\n",
       "      <th>Installs</th>\n",
       "      <th>Price</th>\n",
       "      <th>Free</th>\n",
       "      <th>Paid</th>\n",
       "      <th>Adults only 18+</th>\n",
       "      <th>Everyone</th>\n",
       "      <th>Everyone 10+</th>\n",
       "      <th>Mature 17+</th>\n",
       "      <th>...</th>\n",
       "      <th>Tools</th>\n",
       "      <th>Tools;Education</th>\n",
       "      <th>Travel &amp; Local</th>\n",
       "      <th>Travel &amp; Local;Action &amp; Adventure</th>\n",
       "      <th>Trivia</th>\n",
       "      <th>Video Players &amp; Editors</th>\n",
       "      <th>Video Players &amp; Editors;Creativity</th>\n",
       "      <th>Video Players &amp; Editors;Music &amp; Video</th>\n",
       "      <th>Weather</th>\n",
       "      <th>Word</th>\n",
       "    </tr>\n",
       "  </thead>\n",
       "  <tbody>\n",
       "    <tr>\n",
       "      <th>6510</th>\n",
       "      <td>-0.162003</td>\n",
       "      <td>-0.740880</td>\n",
       "      <td>-0.195140</td>\n",
       "      <td>0.0</td>\n",
       "      <td>1.0</td>\n",
       "      <td>0.0</td>\n",
       "      <td>0.0</td>\n",
       "      <td>1.0</td>\n",
       "      <td>0.0</td>\n",
       "      <td>0.0</td>\n",
       "      <td>...</td>\n",
       "      <td>0.0</td>\n",
       "      <td>0.0</td>\n",
       "      <td>0.0</td>\n",
       "      <td>0.0</td>\n",
       "      <td>0.0</td>\n",
       "      <td>0.0</td>\n",
       "      <td>0.0</td>\n",
       "      <td>0.0</td>\n",
       "      <td>0.0</td>\n",
       "      <td>0.0</td>\n",
       "    </tr>\n",
       "    <tr>\n",
       "      <th>762</th>\n",
       "      <td>-0.162531</td>\n",
       "      <td>-0.128298</td>\n",
       "      <td>-0.195140</td>\n",
       "      <td>0.0</td>\n",
       "      <td>1.0</td>\n",
       "      <td>0.0</td>\n",
       "      <td>0.0</td>\n",
       "      <td>1.0</td>\n",
       "      <td>0.0</td>\n",
       "      <td>0.0</td>\n",
       "      <td>...</td>\n",
       "      <td>0.0</td>\n",
       "      <td>0.0</td>\n",
       "      <td>0.0</td>\n",
       "      <td>0.0</td>\n",
       "      <td>0.0</td>\n",
       "      <td>0.0</td>\n",
       "      <td>0.0</td>\n",
       "      <td>0.0</td>\n",
       "      <td>0.0</td>\n",
       "      <td>0.0</td>\n",
       "    </tr>\n",
       "    <tr>\n",
       "      <th>2252</th>\n",
       "      <td>-0.163406</td>\n",
       "      <td>-0.084853</td>\n",
       "      <td>-0.195140</td>\n",
       "      <td>0.0</td>\n",
       "      <td>0.0</td>\n",
       "      <td>1.0</td>\n",
       "      <td>0.0</td>\n",
       "      <td>0.0</td>\n",
       "      <td>0.0</td>\n",
       "      <td>1.0</td>\n",
       "      <td>...</td>\n",
       "      <td>0.0</td>\n",
       "      <td>0.0</td>\n",
       "      <td>0.0</td>\n",
       "      <td>0.0</td>\n",
       "      <td>0.0</td>\n",
       "      <td>0.0</td>\n",
       "      <td>0.0</td>\n",
       "      <td>0.0</td>\n",
       "      <td>0.0</td>\n",
       "      <td>0.0</td>\n",
       "    </tr>\n",
       "    <tr>\n",
       "      <th>2654</th>\n",
       "      <td>-0.149548</td>\n",
       "      <td>1.609524</td>\n",
       "      <td>-0.141448</td>\n",
       "      <td>0.0</td>\n",
       "      <td>1.0</td>\n",
       "      <td>0.0</td>\n",
       "      <td>0.0</td>\n",
       "      <td>0.0</td>\n",
       "      <td>0.0</td>\n",
       "      <td>0.0</td>\n",
       "      <td>...</td>\n",
       "      <td>0.0</td>\n",
       "      <td>0.0</td>\n",
       "      <td>0.0</td>\n",
       "      <td>0.0</td>\n",
       "      <td>0.0</td>\n",
       "      <td>0.0</td>\n",
       "      <td>0.0</td>\n",
       "      <td>0.0</td>\n",
       "      <td>0.0</td>\n",
       "      <td>0.0</td>\n",
       "    </tr>\n",
       "    <tr>\n",
       "      <th>1945</th>\n",
       "      <td>-0.148103</td>\n",
       "      <td>0.219266</td>\n",
       "      <td>-0.086660</td>\n",
       "      <td>0.0</td>\n",
       "      <td>1.0</td>\n",
       "      <td>0.0</td>\n",
       "      <td>0.0</td>\n",
       "      <td>0.0</td>\n",
       "      <td>1.0</td>\n",
       "      <td>0.0</td>\n",
       "      <td>...</td>\n",
       "      <td>0.0</td>\n",
       "      <td>0.0</td>\n",
       "      <td>0.0</td>\n",
       "      <td>0.0</td>\n",
       "      <td>0.0</td>\n",
       "      <td>0.0</td>\n",
       "      <td>0.0</td>\n",
       "      <td>0.0</td>\n",
       "      <td>0.0</td>\n",
       "      <td>0.0</td>\n",
       "    </tr>\n",
       "    <tr>\n",
       "      <th>...</th>\n",
       "      <td>...</td>\n",
       "      <td>...</td>\n",
       "      <td>...</td>\n",
       "      <td>...</td>\n",
       "      <td>...</td>\n",
       "      <td>...</td>\n",
       "      <td>...</td>\n",
       "      <td>...</td>\n",
       "      <td>...</td>\n",
       "      <td>...</td>\n",
       "      <td>...</td>\n",
       "      <td>...</td>\n",
       "      <td>...</td>\n",
       "      <td>...</td>\n",
       "      <td>...</td>\n",
       "      <td>...</td>\n",
       "      <td>...</td>\n",
       "      <td>...</td>\n",
       "      <td>...</td>\n",
       "      <td>...</td>\n",
       "      <td>...</td>\n",
       "    </tr>\n",
       "    <tr>\n",
       "      <th>5844</th>\n",
       "      <td>-0.072671</td>\n",
       "      <td>-0.171744</td>\n",
       "      <td>-0.086660</td>\n",
       "      <td>0.0</td>\n",
       "      <td>1.0</td>\n",
       "      <td>0.0</td>\n",
       "      <td>0.0</td>\n",
       "      <td>0.0</td>\n",
       "      <td>1.0</td>\n",
       "      <td>0.0</td>\n",
       "      <td>...</td>\n",
       "      <td>0.0</td>\n",
       "      <td>0.0</td>\n",
       "      <td>0.0</td>\n",
       "      <td>0.0</td>\n",
       "      <td>0.0</td>\n",
       "      <td>0.0</td>\n",
       "      <td>0.0</td>\n",
       "      <td>0.0</td>\n",
       "      <td>0.0</td>\n",
       "      <td>0.0</td>\n",
       "    </tr>\n",
       "    <tr>\n",
       "      <th>8003</th>\n",
       "      <td>-0.163507</td>\n",
       "      <td>-0.823427</td>\n",
       "      <td>-0.196126</td>\n",
       "      <td>0.0</td>\n",
       "      <td>0.0</td>\n",
       "      <td>1.0</td>\n",
       "      <td>0.0</td>\n",
       "      <td>1.0</td>\n",
       "      <td>0.0</td>\n",
       "      <td>0.0</td>\n",
       "      <td>...</td>\n",
       "      <td>0.0</td>\n",
       "      <td>0.0</td>\n",
       "      <td>0.0</td>\n",
       "      <td>0.0</td>\n",
       "      <td>0.0</td>\n",
       "      <td>0.0</td>\n",
       "      <td>0.0</td>\n",
       "      <td>0.0</td>\n",
       "      <td>0.0</td>\n",
       "      <td>0.0</td>\n",
       "    </tr>\n",
       "    <tr>\n",
       "      <th>515</th>\n",
       "      <td>-0.163214</td>\n",
       "      <td>-0.571443</td>\n",
       "      <td>-0.195140</td>\n",
       "      <td>0.0</td>\n",
       "      <td>1.0</td>\n",
       "      <td>0.0</td>\n",
       "      <td>0.0</td>\n",
       "      <td>0.0</td>\n",
       "      <td>0.0</td>\n",
       "      <td>1.0</td>\n",
       "      <td>...</td>\n",
       "      <td>0.0</td>\n",
       "      <td>0.0</td>\n",
       "      <td>0.0</td>\n",
       "      <td>0.0</td>\n",
       "      <td>0.0</td>\n",
       "      <td>0.0</td>\n",
       "      <td>0.0</td>\n",
       "      <td>0.0</td>\n",
       "      <td>0.0</td>\n",
       "      <td>0.0</td>\n",
       "    </tr>\n",
       "    <tr>\n",
       "      <th>2345</th>\n",
       "      <td>-0.163558</td>\n",
       "      <td>1.175068</td>\n",
       "      <td>-0.196234</td>\n",
       "      <td>0.0</td>\n",
       "      <td>1.0</td>\n",
       "      <td>0.0</td>\n",
       "      <td>0.0</td>\n",
       "      <td>1.0</td>\n",
       "      <td>0.0</td>\n",
       "      <td>0.0</td>\n",
       "      <td>...</td>\n",
       "      <td>0.0</td>\n",
       "      <td>0.0</td>\n",
       "      <td>0.0</td>\n",
       "      <td>0.0</td>\n",
       "      <td>0.0</td>\n",
       "      <td>0.0</td>\n",
       "      <td>0.0</td>\n",
       "      <td>0.0</td>\n",
       "      <td>0.0</td>\n",
       "      <td>0.0</td>\n",
       "    </tr>\n",
       "    <tr>\n",
       "      <th>618</th>\n",
       "      <td>-0.160314</td>\n",
       "      <td>-0.606199</td>\n",
       "      <td>-0.185278</td>\n",
       "      <td>0.0</td>\n",
       "      <td>1.0</td>\n",
       "      <td>0.0</td>\n",
       "      <td>0.0</td>\n",
       "      <td>0.0</td>\n",
       "      <td>0.0</td>\n",
       "      <td>1.0</td>\n",
       "      <td>...</td>\n",
       "      <td>0.0</td>\n",
       "      <td>0.0</td>\n",
       "      <td>0.0</td>\n",
       "      <td>0.0</td>\n",
       "      <td>0.0</td>\n",
       "      <td>0.0</td>\n",
       "      <td>0.0</td>\n",
       "      <td>0.0</td>\n",
       "      <td>0.0</td>\n",
       "      <td>0.0</td>\n",
       "    </tr>\n",
       "  </tbody>\n",
       "</table>\n",
       "<p>2466 rows × 127 columns</p>\n",
       "</div>"
      ],
      "text/plain": [
       "       Reviews      Size  Installs  Price  Free  Paid  Adults only 18+  \\\n",
       "6510 -0.162003 -0.740880 -0.195140    0.0   1.0   0.0              0.0   \n",
       "762  -0.162531 -0.128298 -0.195140    0.0   1.0   0.0              0.0   \n",
       "2252 -0.163406 -0.084853 -0.195140    0.0   0.0   1.0              0.0   \n",
       "2654 -0.149548  1.609524 -0.141448    0.0   1.0   0.0              0.0   \n",
       "1945 -0.148103  0.219266 -0.086660    0.0   1.0   0.0              0.0   \n",
       "...        ...       ...       ...    ...   ...   ...              ...   \n",
       "5844 -0.072671 -0.171744 -0.086660    0.0   1.0   0.0              0.0   \n",
       "8003 -0.163507 -0.823427 -0.196126    0.0   0.0   1.0              0.0   \n",
       "515  -0.163214 -0.571443 -0.195140    0.0   1.0   0.0              0.0   \n",
       "2345 -0.163558  1.175068 -0.196234    0.0   1.0   0.0              0.0   \n",
       "618  -0.160314 -0.606199 -0.185278    0.0   1.0   0.0              0.0   \n",
       "\n",
       "      Everyone  Everyone 10+  Mature 17+  ...  Tools  Tools;Education  \\\n",
       "6510       1.0           0.0         0.0  ...    0.0              0.0   \n",
       "762        1.0           0.0         0.0  ...    0.0              0.0   \n",
       "2252       0.0           0.0         1.0  ...    0.0              0.0   \n",
       "2654       0.0           0.0         0.0  ...    0.0              0.0   \n",
       "1945       0.0           1.0         0.0  ...    0.0              0.0   \n",
       "...        ...           ...         ...  ...    ...              ...   \n",
       "5844       0.0           1.0         0.0  ...    0.0              0.0   \n",
       "8003       1.0           0.0         0.0  ...    0.0              0.0   \n",
       "515        0.0           0.0         1.0  ...    0.0              0.0   \n",
       "2345       1.0           0.0         0.0  ...    0.0              0.0   \n",
       "618        0.0           0.0         1.0  ...    0.0              0.0   \n",
       "\n",
       "      Travel & Local  Travel & Local;Action & Adventure  Trivia  \\\n",
       "6510             0.0                                0.0     0.0   \n",
       "762              0.0                                0.0     0.0   \n",
       "2252             0.0                                0.0     0.0   \n",
       "2654             0.0                                0.0     0.0   \n",
       "1945             0.0                                0.0     0.0   \n",
       "...              ...                                ...     ...   \n",
       "5844             0.0                                0.0     0.0   \n",
       "8003             0.0                                0.0     0.0   \n",
       "515              0.0                                0.0     0.0   \n",
       "2345             0.0                                0.0     0.0   \n",
       "618              0.0                                0.0     0.0   \n",
       "\n",
       "      Video Players & Editors  Video Players & Editors;Creativity  \\\n",
       "6510                      0.0                                 0.0   \n",
       "762                       0.0                                 0.0   \n",
       "2252                      0.0                                 0.0   \n",
       "2654                      0.0                                 0.0   \n",
       "1945                      0.0                                 0.0   \n",
       "...                       ...                                 ...   \n",
       "5844                      0.0                                 0.0   \n",
       "8003                      0.0                                 0.0   \n",
       "515                       0.0                                 0.0   \n",
       "2345                      0.0                                 0.0   \n",
       "618                       0.0                                 0.0   \n",
       "\n",
       "      Video Players & Editors;Music & Video  Weather  Word  \n",
       "6510                                    0.0      0.0   0.0  \n",
       "762                                     0.0      0.0   0.0  \n",
       "2252                                    0.0      0.0   0.0  \n",
       "2654                                    0.0      0.0   0.0  \n",
       "1945                                    0.0      0.0   0.0  \n",
       "...                                     ...      ...   ...  \n",
       "5844                                    0.0      0.0   0.0  \n",
       "8003                                    0.0      0.0   0.0  \n",
       "515                                     0.0      0.0   0.0  \n",
       "2345                                    0.0      0.0   0.0  \n",
       "618                                     0.0      0.0   0.0  \n",
       "\n",
       "[2466 rows x 127 columns]"
      ]
     },
     "execution_count": 28,
     "metadata": {},
     "output_type": "execute_result"
    }
   ],
   "source": [
    "xTest"
   ]
  },
  {
   "cell_type": "code",
   "execution_count": 21,
   "id": "b6774ae0",
   "metadata": {},
   "outputs": [
    {
     "data": {
      "text/html": [
       "<div>\n",
       "<style scoped>\n",
       "    .dataframe tbody tr th:only-of-type {\n",
       "        vertical-align: middle;\n",
       "    }\n",
       "\n",
       "    .dataframe tbody tr th {\n",
       "        vertical-align: top;\n",
       "    }\n",
       "\n",
       "    .dataframe thead th {\n",
       "        text-align: right;\n",
       "    }\n",
       "</style>\n",
       "<table border=\"1\" class=\"dataframe\">\n",
       "  <thead>\n",
       "    <tr style=\"text-align: right;\">\n",
       "      <th></th>\n",
       "      <th>numerical</th>\n",
       "    </tr>\n",
       "  </thead>\n",
       "  <tbody>\n",
       "    <tr>\n",
       "      <th>6510</th>\n",
       "      <td>4.4</td>\n",
       "    </tr>\n",
       "    <tr>\n",
       "      <th>762</th>\n",
       "      <td>4.2</td>\n",
       "    </tr>\n",
       "    <tr>\n",
       "      <th>2252</th>\n",
       "      <td>4.0</td>\n",
       "    </tr>\n",
       "    <tr>\n",
       "      <th>2654</th>\n",
       "      <td>4.3</td>\n",
       "    </tr>\n",
       "    <tr>\n",
       "      <th>1945</th>\n",
       "      <td>4.7</td>\n",
       "    </tr>\n",
       "    <tr>\n",
       "      <th>...</th>\n",
       "      <td>...</td>\n",
       "    </tr>\n",
       "    <tr>\n",
       "      <th>5844</th>\n",
       "      <td>4.1</td>\n",
       "    </tr>\n",
       "    <tr>\n",
       "      <th>8003</th>\n",
       "      <td>3.0</td>\n",
       "    </tr>\n",
       "    <tr>\n",
       "      <th>515</th>\n",
       "      <td>3.5</td>\n",
       "    </tr>\n",
       "    <tr>\n",
       "      <th>2345</th>\n",
       "      <td>4.3</td>\n",
       "    </tr>\n",
       "    <tr>\n",
       "      <th>618</th>\n",
       "      <td>3.9</td>\n",
       "    </tr>\n",
       "  </tbody>\n",
       "</table>\n",
       "<p>2466 rows × 1 columns</p>\n",
       "</div>"
      ],
      "text/plain": [
       "      numerical\n",
       "6510        4.4\n",
       "762         4.2\n",
       "2252        4.0\n",
       "2654        4.3\n",
       "1945        4.7\n",
       "...         ...\n",
       "5844        4.1\n",
       "8003        3.0\n",
       "515         3.5\n",
       "2345        4.3\n",
       "618         3.9\n",
       "\n",
       "[2466 rows x 1 columns]"
      ]
     },
     "execution_count": 21,
     "metadata": {},
     "output_type": "execute_result"
    }
   ],
   "source": [
    "yTest"
   ]
  },
  {
   "cell_type": "markdown",
   "id": "7ad7ac82",
   "metadata": {},
   "source": [
    "linear regression"
   ]
  },
  {
   "cell_type": "code",
   "execution_count": 31,
   "id": "e4ae68a5",
   "metadata": {},
   "outputs": [
    {
     "name": "stdout",
     "output_type": "stream",
     "text": [
      "[[4.05408478]\n",
      " [4.17236328]\n",
      " [4.19949341]\n",
      " ...\n",
      " [4.03788757]\n",
      " [4.26373291]\n",
      " [4.03715515]]\n",
      "6510    4.4\n",
      "762     4.2\n",
      "2252    4.0\n",
      "2654    4.3\n",
      "1945    4.7\n",
      "       ... \n",
      "5844    4.1\n",
      "8003    3.0\n",
      "515     3.5\n",
      "2345    4.3\n",
      "618     3.9\n",
      "Name: numerical, Length: 2466, dtype: float64\n",
      "1801846764168510.0\n"
     ]
    }
   ],
   "source": [
    "reg = LinearRegression().fit(xTrain, yTrain)\n",
    "yHat = reg.predict(xTest)\n",
    "print(yHat)\n",
    "print(yTest['numerical'])\n",
    "mse_lr = mean_squared_error(yTest['numerical'], yHat)\n",
    "print(mse_lr)\n",
    "# print(reg.coef_)"
   ]
  },
  {
   "cell_type": "markdown",
   "id": "1d970a74",
   "metadata": {},
   "source": [
    "RandomForest Regressor"
   ]
  },
  {
   "cell_type": "code",
   "execution_count": 83,
   "id": "f94dd4c3",
   "metadata": {},
   "outputs": [],
   "source": [
    "\n",
    "# Number of trees in random forest\n",
    "n_estimators = [int(x) for x in np.linspace(start = 200, stop = 2000, num = 10)]\n",
    "# Number of features to consider at every split\n",
    "max_features = ['auto', 'sqrt']\n",
    "# Maximum number of levels in tree\n",
    "max_depth = [int(x) for x in np.linspace(10, 110, num = 11)]\n",
    "max_depth.append(None)\n",
    "# Minimum number of samples required to split a node\n",
    "min_samples_split = [2, 5, 10]\n",
    "# Minimum number of samples required at each leaf node\n",
    "min_samples_leaf = [1, 2, 4]\n",
    "# Method of selecting samples for training each tree\n",
    "bootstrap = [True, False]\n",
    "# Create the random grid\n",
    "random_grid = {'n_estimators': n_estimators,\n",
    "               'max_features': max_features,\n",
    "               'max_depth': max_depth,\n",
    "               'min_samples_split': min_samples_split,\n",
    "               'min_samples_leaf': min_samples_leaf,\n",
    "               'bootstrap': bootstrap}"
   ]
  },
  {
   "cell_type": "code",
   "execution_count": 84,
   "id": "fe977611",
   "metadata": {},
   "outputs": [
    {
     "name": "stdout",
     "output_type": "stream",
     "text": [
      "Fitting 3 folds for each of 50 candidates, totalling 150 fits\n"
     ]
    },
    {
     "data": {
      "text/plain": [
       "RandomizedSearchCV(cv=3, estimator=RandomForestRegressor(), n_iter=50,\n",
       "                   n_jobs=-1,\n",
       "                   param_distributions={'bootstrap': [True, False],\n",
       "                                        'max_depth': [10, 20, 30, 40, 50, 60,\n",
       "                                                      70, 80, 90, 100, 110,\n",
       "                                                      None],\n",
       "                                        'max_features': ['auto', 'sqrt'],\n",
       "                                        'min_samples_leaf': [1, 2, 4],\n",
       "                                        'min_samples_split': [2, 5, 10],\n",
       "                                        'n_estimators': [200, 400, 600, 800,\n",
       "                                                         1000, 1200, 1400, 1600,\n",
       "                                                         1800, 2000]},\n",
       "                   random_state=42, verbose=2)"
      ]
     },
     "execution_count": 84,
     "metadata": {},
     "output_type": "execute_result"
    }
   ],
   "source": [
    "\n",
    "# Use the random grid to search for best hyperparameters\n",
    "# First create the base model to tune\n",
    "rf = RandomForestRegressor()\n",
    "# Random search of parameters, using 5 fold cross validation, \n",
    "# search across 100 different combinations, and use all available cores\n",
    "rf_random = RandomizedSearchCV(estimator = rf, param_distributions = random_grid, n_iter = 50, cv = 3, verbose=2, random_state=42, n_jobs = -1)\n",
    "# Fit the random search model\n",
    "rf_random.fit(xTrain, yTrain)"
   ]
  },
  {
   "cell_type": "code",
   "execution_count": 85,
   "id": "5e866c68",
   "metadata": {},
   "outputs": [
    {
     "data": {
      "text/plain": [
       "{'n_estimators': 800,\n",
       " 'min_samples_split': 2,\n",
       " 'min_samples_leaf': 4,\n",
       " 'max_features': 'sqrt',\n",
       " 'max_depth': 90,\n",
       " 'bootstrap': True}"
      ]
     },
     "execution_count": 85,
     "metadata": {},
     "output_type": "execute_result"
    }
   ],
   "source": [
    "rf_random.best_params_"
   ]
  },
  {
   "cell_type": "code",
   "execution_count": 96,
   "id": "6705d991",
   "metadata": {},
   "outputs": [
    {
     "data": {
      "text/plain": [
       "2.8284271247461903"
      ]
     },
     "execution_count": 96,
     "metadata": {},
     "output_type": "execute_result"
    }
   ],
   "source": [
    "import math\n",
    "math.sqrt(len(xTrain.columns))"
   ]
  },
  {
   "cell_type": "code",
   "execution_count": 8,
   "id": "383324a3",
   "metadata": {},
   "outputs": [
    {
     "ename": "NameError",
     "evalue": "name 'RandomForestRegressor' is not defined",
     "output_type": "error",
     "traceback": [
      "\u001b[0;31m---------------------------------------------------------------------------\u001b[0m",
      "\u001b[0;31mNameError\u001b[0m                                 Traceback (most recent call last)",
      "\u001b[0;32m<ipython-input-8-651cbce94bf9>\u001b[0m in \u001b[0;36m<module>\u001b[0;34m\u001b[0m\n\u001b[1;32m     11\u001b[0m }\n\u001b[1;32m     12\u001b[0m \u001b[0;31m# Create a based model\u001b[0m\u001b[0;34m\u001b[0m\u001b[0;34m\u001b[0m\u001b[0;34m\u001b[0m\u001b[0m\n\u001b[0;32m---> 13\u001b[0;31m \u001b[0mrf\u001b[0m \u001b[0;34m=\u001b[0m \u001b[0mRandomForestRegressor\u001b[0m\u001b[0;34m(\u001b[0m\u001b[0;34m)\u001b[0m\u001b[0;34m\u001b[0m\u001b[0;34m\u001b[0m\u001b[0m\n\u001b[0m\u001b[1;32m     14\u001b[0m \u001b[0;31m# Instantiate the grid search model\u001b[0m\u001b[0;34m\u001b[0m\u001b[0;34m\u001b[0m\u001b[0;34m\u001b[0m\u001b[0m\n\u001b[1;32m     15\u001b[0m grid_search = GridSearchCV(estimator = rf, param_grid = param_grid, \n",
      "\u001b[0;31mNameError\u001b[0m: name 'RandomForestRegressor' is not defined"
     ]
    }
   ],
   "source": [
    "\n",
    "# Create the parameter grid based on the results of random search \n",
    "param_grid = {\n",
    "    'bootstrap': [True],\n",
    "    'max_depth': [90, 100],\n",
    "    'max_features': [3],\n",
    "    'min_samples_leaf': [3, 4, 5],\n",
    "    'min_samples_split': [2, 3],\n",
    "    'n_estimators': [700, 800, 900, 1000]\n",
    "}\n",
    "# Create a based model\n",
    "rf = RandomForestRegressor()\n",
    "# Instantiate the grid search model\n",
    "grid_search = GridSearchCV(estimator = rf, param_grid = param_grid, \n",
    "                          cv = 3, n_jobs = -1, verbose = 2)\n",
    "grid_search.fit(xTrain, yTrain)"
   ]
  },
  {
   "cell_type": "code",
   "execution_count": 98,
   "id": "b04d970a",
   "metadata": {},
   "outputs": [
    {
     "data": {
      "text/plain": [
       "{'bootstrap': True,\n",
       " 'max_depth': 90,\n",
       " 'max_features': 3,\n",
       " 'min_samples_leaf': 5,\n",
       " 'min_samples_split': 3,\n",
       " 'n_estimators': 1000}"
      ]
     },
     "execution_count": 98,
     "metadata": {},
     "output_type": "execute_result"
    }
   ],
   "source": [
    "grid_search.best_params_"
   ]
  },
  {
   "cell_type": "code",
   "execution_count": 105,
   "id": "6220e7c3",
   "metadata": {},
   "outputs": [
    {
     "data": {
      "text/plain": [
       "0.21108135200095268"
      ]
     },
     "execution_count": 105,
     "metadata": {},
     "output_type": "execute_result"
    }
   ],
   "source": [
    "rf = RandomForestRegressor(bootstrap = True,\n",
    " max_depth = 90,\n",
    " max_features = 3,\n",
    " min_samples_leaf = 5,\n",
    " min_samples_split = 3,\n",
    " n_estimators =1000)\n",
    "rf.fit(xTrain, yTrain['numerical'])\n",
    "yHat = rf.predict(xTest)\n",
    "mean_squared_error(yTest['numerical'], yHat)"
   ]
  },
  {
   "cell_type": "code",
   "execution_count": 32,
   "id": "5dba0e6a",
   "metadata": {},
   "outputs": [
    {
     "data": {
      "text/html": [
       "<div>\n",
       "<style scoped>\n",
       "    .dataframe tbody tr th:only-of-type {\n",
       "        vertical-align: middle;\n",
       "    }\n",
       "\n",
       "    .dataframe tbody tr th {\n",
       "        vertical-align: top;\n",
       "    }\n",
       "\n",
       "    .dataframe thead th {\n",
       "        text-align: right;\n",
       "    }\n",
       "</style>\n",
       "<table border=\"1\" class=\"dataframe\">\n",
       "  <thead>\n",
       "    <tr style=\"text-align: right;\">\n",
       "      <th></th>\n",
       "      <th>1</th>\n",
       "      <th>0.5</th>\n",
       "      <th>0.2</th>\n",
       "    </tr>\n",
       "  </thead>\n",
       "  <tbody>\n",
       "    <tr>\n",
       "      <th>0</th>\n",
       "      <td>4-5</td>\n",
       "      <td>4.0-4.4</td>\n",
       "      <td>4.0-4.1</td>\n",
       "    </tr>\n",
       "    <tr>\n",
       "      <th>1</th>\n",
       "      <td>4-5</td>\n",
       "      <td>4.5-4.9</td>\n",
       "      <td>4.6-4.7</td>\n",
       "    </tr>\n",
       "    <tr>\n",
       "      <th>2</th>\n",
       "      <td>4-5</td>\n",
       "      <td>4.0-4.4</td>\n",
       "      <td>4.4-4.5</td>\n",
       "    </tr>\n",
       "    <tr>\n",
       "      <th>3</th>\n",
       "      <td>3-4</td>\n",
       "      <td>3.5-3.9</td>\n",
       "      <td>3.6-3.7</td>\n",
       "    </tr>\n",
       "    <tr>\n",
       "      <th>4</th>\n",
       "      <td>4-5</td>\n",
       "      <td>4.0-4.4</td>\n",
       "      <td>4.0-4.1</td>\n",
       "    </tr>\n",
       "    <tr>\n",
       "      <th>...</th>\n",
       "      <td>...</td>\n",
       "      <td>...</td>\n",
       "      <td>...</td>\n",
       "    </tr>\n",
       "    <tr>\n",
       "      <th>5749</th>\n",
       "      <td>4-5</td>\n",
       "      <td>4.5-4.9</td>\n",
       "      <td>4.6-4.7</td>\n",
       "    </tr>\n",
       "    <tr>\n",
       "      <th>5750</th>\n",
       "      <td>4-5</td>\n",
       "      <td>4.0-4.4</td>\n",
       "      <td>4.0-4.1</td>\n",
       "    </tr>\n",
       "    <tr>\n",
       "      <th>5751</th>\n",
       "      <td>4-5</td>\n",
       "      <td>4.0-4.4</td>\n",
       "      <td>4.2-4.3</td>\n",
       "    </tr>\n",
       "    <tr>\n",
       "      <th>5752</th>\n",
       "      <td>4-5</td>\n",
       "      <td>4.0-4.4</td>\n",
       "      <td>4.0-4.1</td>\n",
       "    </tr>\n",
       "    <tr>\n",
       "      <th>5753</th>\n",
       "      <td>4-5</td>\n",
       "      <td>4.5-4.9</td>\n",
       "      <td>4.4-4.5</td>\n",
       "    </tr>\n",
       "  </tbody>\n",
       "</table>\n",
       "<p>5754 rows × 3 columns</p>\n",
       "</div>"
      ],
      "text/plain": [
       "        1      0.5      0.2\n",
       "0     4-5  4.0-4.4  4.0-4.1\n",
       "1     4-5  4.5-4.9  4.6-4.7\n",
       "2     4-5  4.0-4.4  4.4-4.5\n",
       "3     3-4  3.5-3.9  3.6-3.7\n",
       "4     4-5  4.0-4.4  4.0-4.1\n",
       "...   ...      ...      ...\n",
       "5749  4-5  4.5-4.9  4.6-4.7\n",
       "5750  4-5  4.0-4.4  4.0-4.1\n",
       "5751  4-5  4.0-4.4  4.2-4.3\n",
       "5752  4-5  4.0-4.4  4.0-4.1\n",
       "5753  4-5  4.5-4.9  4.4-4.5\n",
       "\n",
       "[5754 rows x 3 columns]"
      ]
     },
     "execution_count": 32,
     "metadata": {},
     "output_type": "execute_result"
    }
   ],
   "source": [
    "yTrain_kn = pd.read_csv('CateyTrain.csv', index_col=0)\n",
    "yTest_kn = pd.read_csv('CateyTest.csv', index_col=0)\n",
    "yTrain_kn"
   ]
  },
  {
   "cell_type": "code",
   "execution_count": null,
   "id": "479638cd",
   "metadata": {},
   "outputs": [],
   "source": [
    "clf = GridSearchCV(\n",
    "        KNeighborsClassifier(), \n",
    "        [{'n_neighbors': range(1,len(xTrain),100), 'metric': ['euclidean','manhattan']}], cv=5)\n",
    "clf.fit(xTrain, yTrain_kn['1'])"
   ]
  },
  {
   "cell_type": "code",
   "execution_count": 127,
   "id": "b562f10f",
   "metadata": {},
   "outputs": [
    {
     "data": {
      "text/plain": [
       "{'metric': 'manhattan', 'n_neighbors': 1}"
      ]
     },
     "execution_count": 127,
     "metadata": {},
     "output_type": "execute_result"
    }
   ],
   "source": [
    "clf.best_params_"
   ]
  },
  {
   "cell_type": "code",
   "execution_count": 14,
   "id": "1e15a64a",
   "metadata": {},
   "outputs": [
    {
     "name": "stdout",
     "output_type": "stream",
     "text": [
      "['4-5' '4-5' '3-4' ... '3-4' '3-4' '4-5']\n"
     ]
    }
   ],
   "source": [
    "KN = KNeighborsClassifier(metric = 'manhattan', n_neighbors = 1)\n",
    "KN.fit(xTrain, yTrain_kn['1'])\n",
    "yHat = KN.predict(xTest)\n",
    "print(yHat)"
   ]
  },
  {
   "cell_type": "code",
   "execution_count": 15,
   "id": "4fc1da56",
   "metadata": {},
   "outputs": [
    {
     "data": {
      "text/plain": [
       "0.6994301994301995"
      ]
     },
     "execution_count": 15,
     "metadata": {},
     "output_type": "execute_result"
    }
   ],
   "source": [
    "accuracy_score(yHat, yTest_kn['1'])"
   ]
  },
  {
   "cell_type": "code",
   "execution_count": 16,
   "id": "d5c1101a",
   "metadata": {},
   "outputs": [
    {
     "data": {
      "text/plain": [
       "{'metric': 'manhattan', 'n_neighbors': 301}"
      ]
     },
     "execution_count": 16,
     "metadata": {},
     "output_type": "execute_result"
    }
   ],
   "source": [
    "clf = GridSearchCV(\n",
    "        KNeighborsClassifier(), \n",
    "        [{'n_neighbors': range(1,len(xTrain),100), 'metric': ['euclidean','manhattan']}], cv=5)\n",
    "clf.fit(xTrain, yTrain_kn['0.5'])\n",
    "clf.best_params_"
   ]
  },
  {
   "cell_type": "code",
   "execution_count": 17,
   "id": "d05f769a",
   "metadata": {},
   "outputs": [
    {
     "name": "stdout",
     "output_type": "stream",
     "text": [
      "['4.0-4.4' '4.0-4.4' '4.0-4.4' ... '4.0-4.4' '4.0-4.4' '4.0-4.4']\n"
     ]
    },
    {
     "data": {
      "text/plain": [
       "0.48824786324786323"
      ]
     },
     "execution_count": 17,
     "metadata": {},
     "output_type": "execute_result"
    }
   ],
   "source": [
    "KN = KNeighborsClassifier(metric = 'manhattan', n_neighbors = 301)\n",
    "KN.fit(xTrain, yTrain_kn['0.5'])\n",
    "yHat = KN.predict(xTest)\n",
    "print(yHat)\n",
    "accuracy_score(yHat, yTest_kn['0.5'])"
   ]
  },
  {
   "cell_type": "code",
   "execution_count": 18,
   "id": "e3873dd3",
   "metadata": {},
   "outputs": [
    {
     "data": {
      "text/plain": [
       "{'metric': 'euclidean', 'n_neighbors': 701}"
      ]
     },
     "execution_count": 18,
     "metadata": {},
     "output_type": "execute_result"
    }
   ],
   "source": [
    "clf = GridSearchCV(\n",
    "        KNeighborsClassifier(), \n",
    "        [{'n_neighbors': range(1,len(xTrain),100), 'metric': ['euclidean','manhattan']}], cv=5)\n",
    "clf.fit(xTrain, yTrain_kn['0.2'])\n",
    "clf.best_params_"
   ]
  },
  {
   "cell_type": "code",
   "execution_count": 19,
   "id": "65b397d1",
   "metadata": {},
   "outputs": [
    {
     "name": "stdout",
     "output_type": "stream",
     "text": [
      "['4.4-4.5' '4.4-4.5' '4.4-4.5' ... '4.4-4.5' '4.4-4.5' '4.4-4.5']\n"
     ]
    },
    {
     "data": {
      "text/plain": [
       "0.3108974358974359"
      ]
     },
     "execution_count": 19,
     "metadata": {},
     "output_type": "execute_result"
    }
   ],
   "source": [
    "KN = KNeighborsClassifier(metric = 'manhattan', n_neighbors = 701)\n",
    "KN.fit(xTrain, yTrain_kn['0.2'])\n",
    "yHat = KN.predict(xTest)\n",
    "print(yHat)\n",
    "accuracy_score(yHat, yTest_kn['0.2'])"
   ]
  },
  {
   "cell_type": "code",
   "execution_count": null,
   "id": "b39ecc7e",
   "metadata": {},
   "outputs": [],
   "source": []
  }
 ],
 "metadata": {
  "kernelspec": {
   "display_name": "Python 3",
   "language": "python",
   "name": "python3"
  },
  "language_info": {
   "codemirror_mode": {
    "name": "ipython",
    "version": 3
   },
   "file_extension": ".py",
   "mimetype": "text/x-python",
   "name": "python",
   "nbconvert_exporter": "python",
   "pygments_lexer": "ipython3",
   "version": "3.8.8"
  }
 },
 "nbformat": 4,
 "nbformat_minor": 5
}
